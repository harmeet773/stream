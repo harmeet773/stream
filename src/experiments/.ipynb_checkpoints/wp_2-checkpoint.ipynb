{
 "cells": [
  {
   "cell_type": "code",
   "execution_count": 17,
   "id": "35304c1b-7b7f-4976-9276-0faa36283713",
   "metadata": {},
   "outputs": [],
   "source": [
    "import re\n",
    "import pandas as pd\n",
    "import numpy as np\n",
    "import matplotlib.pyplot as plt\n",
    "import seaborn as sns\n",
    "from datetime import *\n",
    "import datetime as dt\n",
    "from matplotlib.ticker import MaxNLocator\n",
    "import regex\n",
    "import emoji\n",
    "from seaborn import *\n",
    "# from heatmap import heatmap\n",
    "# from wordcloud import WordCloud , STOPWORDS , ImageColorGenerator\n",
    "from nltk import *\n",
    "from plotly import express as px\n",
    "\n",
    "## regex emoji seaborn heatmap nltk plotly"
   ]
  },
  {
   "cell_type": "code",
   "execution_count": 18,
   "id": "4b456026-0ae0-46ba-a8d0-ceb7aa0942e6",
   "metadata": {},
   "outputs": [
    {
     "ename": "SyntaxError",
     "evalue": "invalid character in identifier (3451202859.py, line 4)",
     "output_type": "error",
     "traceback": [
      "\u001b[0;36m  File \u001b[0;32m\"/tmp/ipykernel_110213/3451202859.py\"\u001b[0;36m, line \u001b[0;32m4\u001b[0m\n\u001b[0;31m    pattern = ‘^([0-9]+)(/)([0-9]+)(/)([0-9][0-9]), ([0-9]+):([0-9][0-9]) (AM|PM) -‘\u001b[0m\n\u001b[0m              ^\u001b[0m\n\u001b[0;31mSyntaxError\u001b[0m\u001b[0;31m:\u001b[0m invalid character in identifier\n"
     ]
    }
   ],
   "source": [
    "### Python code to extract Date from chat file \n",
    "\n",
    "def startsWithDateAndTime(s):\n",
    "    pattern = ‘^([0-9]+)(/)([0-9]+)(/)([0-9][0-9]), ([0-9]+):([0-9][0-9]) (AM|PM) -‘\n",
    "    result = re.match(pattern, s)\n",
    "    \n",
    "    if result:\n",
    "        return True\n",
    "    \n",
    "    return False"
   ]
  },
  {
   "cell_type": "code",
   "execution_count": 16,
   "id": "b60a8453-1b08-475a-9f73-c8b199e09a4d",
   "metadata": {},
   "outputs": [
    {
     "name": "stdout",
     "output_type": "stream",
     "text": [
      "Collecting plotly\n",
      "  Downloading plotly-5.8.0-py2.py3-none-any.whl (15.2 MB)\n",
      "     |████████████████████████████████| 15.2 MB 18 kB/s             \n",
      "\u001b[?25hCollecting tenacity>=6.2.0\n",
      "  Downloading tenacity-8.0.1-py3-none-any.whl (24 kB)\n",
      "Installing collected packages: tenacity, plotly\n",
      "Successfully installed plotly-5.8.0 tenacity-8.0.1\n",
      "Note: you may need to restart the kernel to use updated packages.\n"
     ]
    }
   ],
   "source": [
    "pip install plotly"
   ]
  },
  {
   "cell_type": "code",
   "execution_count": null,
   "id": "46b7b4cf-2f68-4f05-a5ee-6bc1f6436016",
   "metadata": {},
   "outputs": [],
   "source": []
  },
  {
   "cell_type": "code",
   "execution_count": null,
   "id": "719abc93-5eba-4704-be72-3a34761990a9",
   "metadata": {},
   "outputs": [],
   "source": []
  },
  {
   "cell_type": "code",
   "execution_count": null,
   "id": "0282a9aa-0be8-49cb-9341-1d7a1289467f",
   "metadata": {},
   "outputs": [
    {
     "ename": "NameError",
     "evalue": "name 'filename' is not defined",
     "output_type": "error",
     "traceback": [
      "\u001b[0;31m---------------------------------------------------------------------------\u001b[0m",
      "\u001b[0;31mNameError\u001b[0m                                 Traceback (most recent call last)",
      "\u001b[0;32m/tmp/ipykernel_110213/2025672158.py\u001b[0m in \u001b[0;36m<module>\u001b[0;34m\u001b[0m\n\u001b[1;32m     10\u001b[0m     \u001b[0;32mreturn\u001b[0m \u001b[0mcontent\u001b[0m\u001b[0;34m\u001b[0m\u001b[0;34m\u001b[0m\u001b[0m\n\u001b[1;32m     11\u001b[0m \u001b[0;34m\u001b[0m\u001b[0m\n\u001b[0;32m---> 12\u001b[0;31m \u001b[0mchat\u001b[0m \u001b[0;34m=\u001b[0m \u001b[0mread_file\u001b[0m\u001b[0;34m(\u001b[0m\u001b[0mfilename\u001b[0m\u001b[0;34m)\u001b[0m\u001b[0;34m\u001b[0m\u001b[0;34m\u001b[0m\u001b[0m\n\u001b[0m",
      "\u001b[0;31mNameError\u001b[0m: name 'filename' is not defined"
     ]
    }
   ],
   "source": [
    "# opening a file\n",
    "os.chdir('../data/')\n",
    "\n",
    "file = 'Books&Beyond.txt'\n",
    "def read_file(file):\n",
    "    '''Reads Whatsapp text file into a list of strings'''\n",
    "    x = open(file,'r', encoding = 'utf-8') #Opens the text file into variable x but the variable cannot be explored yet\n",
    "    y = x.read() #By now it becomes a huge chunk of string that we need to separate line by line\n",
    "    content = y.splitlines() #The splitline method converts the chunk of string into a list of strings\n",
    "    return content\n",
    "\n",
    "chat = read_file(filename)"
   ]
  },
  {
   "cell_type": "code",
   "execution_count": null,
   "id": "0aa25513-d06d-4e52-935d-ccec9e40df39",
   "metadata": {},
   "outputs": [],
   "source": []
  },
  {
   "cell_type": "code",
   "execution_count": null,
   "id": "3469cf63-c8a8-49cb-9de1-d6e8d459118f",
   "metadata": {},
   "outputs": [],
   "source": []
  },
  {
   "cell_type": "code",
   "execution_count": 19,
   "id": "94437124-8eb1-4177-bc93-37c2de5f299b",
   "metadata": {},
   "outputs": [],
   "source": [
    "### Regex pattern to extract username of Author.\n",
    "\n",
    "def FindAuthor(s):\n",
    "    patterns = [\n",
    "        '([w]+):',                        # First Name\n",
    "        '([w]+[s]+[w]+):',              # First Name + Last Name\n",
    "        '([w]+[s]+[w]+[s]+[w]+):',    # First Name + Middle Name + Last Name\n",
    "        '([+]d{2} d{5} d{5}):',         # Mobile Number (India no.)\n",
    "        '([+]d{2} d{3} d{3} d{4}):',   # Mobile Number (US no.)\n",
    "        '([w]+)[u263a-U0001f999]+:',    # Name and Emoji              \n",
    "    ]\n",
    "    pattern = '^' + '|'.join(patterns)\n",
    "    result = re.match(pattern, s)\n",
    "    if result:\n",
    "        return True\n",
    "    return False\n",
    "\n",
    "\n",
    "### Extracting Date, Time, Author and message from the chat file."
   ]
  },
  {
   "cell_type": "code",
   "execution_count": null,
   "id": "202ac652-2487-498d-8b8a-327ed3b9b0e2",
   "metadata": {},
   "outputs": [],
   "source": [
    "def getDataPoint(line):   \n",
    "    splitLine = line.split(' - ') \n",
    "    dateTime = splitLine[0]\n",
    "    date, time = dateTime.split(', ') \n",
    "    message = ' '.join(splitLine[1:])\n",
    "    if FindAuthor(message): \n",
    "        splitMessage = message.split(': ') \n",
    "        author = splitMessage[0] \n",
    "        message = ' '.join(splitMessage[1:])\n",
    "    else:\n",
    "        author = None\n",
    "    return date, time, author, message\n",
    "\n",
    "### Finally creating a dataframe and storing all data inside that dataframe."
   ]
  },
  {
   "cell_type": "code",
   "execution_count": null,
   "id": "cca2705b-c167-42a5-96eb-ec91b3436b8f",
   "metadata": {},
   "outputs": [],
   "source": [
    "parsedData = [] # List to keep track of data so it can be used by a Pandas dataframe\n",
    "### Uploading exported chat file\n",
    "conversationPath = 'WhatsApp Chat with TE Comp 20-21 Official.txt' # chat file\n",
    "with open(conversationPath, encoding=\"utf-8\") as fp:\n",
    "    ### Skipping first line of the file because contains information related to something about end-to-end encryption\n",
    "    fp.readline() \n",
    "    messageBuffer = [] \n",
    "    date, time, author = None, None, None\n",
    "    while True:\n",
    "        line = fp.readline() \n",
    "        if not line: \n",
    "            break\n",
    "        line = line.strip() \n",
    "        if startsWithDateAndTime(line): \n",
    "            if len(messageBuffer) > 0: \n",
    "                parsedData.append([date, time, author, ' '.join(messageBuffer)]) \n",
    "            messageBuffer.clear() \n",
    "            date, time, author, message = getDataPoint(line) \n",
    "            messageBuffer.append(message) \n",
    "        else:\n",
    "            messageBuffer.append(line)\n",
    "df = pd.DataFrame(parsedData, columns=['Date', 'Time', 'Author', 'Message']) # Initialising a pandas Dataframe.\n",
    "### changing datatype of \"Date\" column.\n",
    "df[\"Date\"] = pd.to_datetime(df[\"Date\"])"
   ]
  },
  {
   "cell_type": "code",
   "execution_count": null,
   "id": "57487b68-9712-4bb2-b98e-bdc1db6da83e",
   "metadata": {},
   "outputs": [],
   "source": []
  },
  {
   "cell_type": "code",
   "execution_count": null,
   "id": "0a7ccc89-df70-49e2-9ead-cd0c95afe679",
   "metadata": {},
   "outputs": [],
   "source": []
  }
 ],
 "metadata": {
  "kernelspec": {
   "display_name": "Python 3 (ipykernel)",
   "language": "python",
   "name": "python3"
  },
  "language_info": {
   "codemirror_mode": {
    "name": "ipython",
    "version": 3
   },
   "file_extension": ".py",
   "mimetype": "text/x-python",
   "name": "python",
   "nbconvert_exporter": "python",
   "pygments_lexer": "ipython3",
   "version": "3.7.12"
  }
 },
 "nbformat": 4,
 "nbformat_minor": 5
}
